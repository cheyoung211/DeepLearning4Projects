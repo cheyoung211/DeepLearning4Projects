{
  "nbformat": 4,
  "nbformat_minor": 0,
  "metadata": {
    "colab": {
      "provenance": []
    },
    "kernelspec": {
      "name": "python3",
      "display_name": "Python 3"
    },
    "language_info": {
      "name": "python"
    }
  },
  "cells": [
    {
      "cell_type": "markdown",
      "source": [
        "코드 1.1. 평균 제곱 오차 계산"
      ],
      "metadata": {
        "id": "F25iWiH242EM"
      }
    },
    {
      "cell_type": "code",
      "source": [
        "import numpy as np\n",
        "# mse_function 함수\n",
        "def mse_function(y, t):\n",
        "    return np.sum((y - t) ** 2).mean()\n",
        "    #return 0.5 * np.sum((y - t) ** 2)\n",
        "\n",
        "# 정답 데이터\n",
        "t = [0,0,0,1,0,0,0,0,0,0]\n",
        "\n",
        "# 모델 출력 값의 예 2개 y1, y2\n",
        "y1 = [0.01, 0.03, 0.1, 0.8, 0.1, 0.1, 0.02, 0.1, 0.0, 0.01]\n",
        "y2 = [0.01, 0.03, 0.1, 0.07, 0.1, 0.1, 0.02, 0.1, 0.8, 0.01]"
      ],
      "metadata": {
        "id": "jrBdozFK4Bal"
      },
      "execution_count": null,
      "outputs": []
    },
    {
      "cell_type": "code",
      "source": [
        "import matplotlib.pyplot as plt\n",
        "\n",
        "array = np.arange(0, 1, 0.1)\n",
        "\n",
        "plt.plot(array, t, c='r', linestyle='--', linewidth=2, alpha=0.8)\n",
        "plt.plot(array, y2, c='g', linestyle='--', linewidth=2, alpha=0.8)\n",
        "plt.plot(array, y1, c='b', linestyle='--', linewidth=2, alpha=0.8)\n",
        "\n",
        "plt.show()"
      ],
      "metadata": {
        "id": "c9PJ-pAaSiT5"
      },
      "execution_count": null,
      "outputs": []
    },
    {
      "cell_type": "code",
      "source": [
        "# y1의 경우 평균 제곱 오차 계산결과 출력\n",
        "mse1 = mse_function(np.array(y1), np.array(t))\n",
        "print(mse1)"
      ],
      "metadata": {
        "id": "XK7ygwXE4Jz8"
      },
      "execution_count": null,
      "outputs": []
    },
    {
      "cell_type": "code",
      "source": [
        "# y2의 경우 평균 제곱 오차 계산결과 출력\n",
        "mse2 = mse_function(np.array(y2), np.array(t))\n",
        "print(mse2)"
      ],
      "metadata": {
        "id": "bsvQQX8f4M0S"
      },
      "execution_count": null,
      "outputs": []
    },
    {
      "cell_type": "code",
      "source": [
        "import numpy as np\n",
        "# mse_function 함수\n",
        "def mse_function2(y, t):\n",
        "    return np.sum((y - t) ** 2).mean()\n",
        "    #return 0.5 * np.sum((y - t) ** 2)\n",
        "\n",
        "# 정답 데이터\n",
        "t = [0,0,0,1,0,0,0,0,0,0]\n",
        "\n",
        "# 모델 출력 값의 예 2개 y1, y2\n",
        "y1 = [0.01, 0.03, 0.1, 0.8, 0.1, 0.1, 0.02, 0.1, 0.0, 0.01]\n",
        "y2 = [0.01, 0.03, 0.1, 0.07, 0.1, 0.1, 0.02, 0.1, 0.8, 0.01]"
      ],
      "metadata": {
        "id": "smiKQKzfaWJi"
      },
      "execution_count": null,
      "outputs": []
    },
    {
      "cell_type": "code",
      "source": [
        "# y1의 경우 평균 제곱 오차 계산결과 출력\n",
        "mse1 = mse_function2(np.array(y1), np.array(t))\n",
        "print(mse1)"
      ],
      "metadata": {
        "id": "lfkuodpZaW0p"
      },
      "execution_count": null,
      "outputs": []
    },
    {
      "cell_type": "code",
      "source": [
        "# y2의 경우 평균 제곱 오차 계산결과 출력\n",
        "mse2 = mse_function2(np.array(y2), np.array(t))\n",
        "print(mse2)"
      ],
      "metadata": {
        "id": "U4PdYkkTaZrY"
      },
      "execution_count": null,
      "outputs": []
    },
    {
      "cell_type": "markdown",
      "source": [
        "코드 1.2. 크로스 엔트로피 오차 계산"
      ],
      "metadata": {
        "id": "8rhDNwQn49b7"
      }
    },
    {
      "cell_type": "code",
      "source": [
        "#  cee_function 함수\n",
        "def cee_function(y, t):\n",
        "    delta = 1e-7\n",
        "    return -np.sum(t * np.log(y + delta))\n",
        "\n",
        "#  정답 데이터\n",
        "t = [0,0,0,1,0,0,0,0,0,0]\n",
        "\n",
        "# 모델 출력 값의 예 2개 y1, y2\n",
        "y1 = [0.01, 0.03, 0.1, 0.8, 0.1, 0.1, 0.02, 0.1, 0.0, 0.01]\n",
        "y2 = [0.01, 0.03, 0.1, 0.07, 0.1, 0.1, 0.02, 0.1, 0.8, 0.01]"
      ],
      "metadata": {
        "id": "c3L6vCpK5EGs"
      },
      "execution_count": null,
      "outputs": []
    },
    {
      "cell_type": "code",
      "source": [
        "#  y1의 경우 교차 엔트로피 오차 계산결과 출력\n",
        "see1 = cee_function(np.array(y1), np.array(t))\n",
        "print(see1)"
      ],
      "metadata": {
        "id": "ZDEbfKJ85JKj"
      },
      "execution_count": null,
      "outputs": []
    },
    {
      "cell_type": "code",
      "source": [
        "#  y2의 경우 교차 엔트로피 오차 계산결과 출력\n",
        "see2 = cee_function(np.array(y2), np.array(t))\n",
        "print(see2)"
      ],
      "metadata": {
        "id": "Zjyw0kyS5OR7"
      },
      "execution_count": null,
      "outputs": []
    }
  ]
}